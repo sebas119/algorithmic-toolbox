{
 "cells": [
  {
   "cell_type": "markdown",
   "metadata": {},
   "source": [
    "### A queue is a first-in-first out(FIFO) data structure. It has three primitive operations:\n",
    "\n",
    "* enqueue: Add an element to the queue\n",
    "* dequeue: Remove an element from the queue\n",
    "* Peek: Get the top most element of the queue.i.e, the element at the front position.\n",
    "\n",
    "\n",
    "\n",
    "> In Python, a queue is implemented using a list object.\n",
    "\n",
    "* To push an item in the queue, use the list function append list.append(item)\n",
    "* To pop an item from the queue, use the list function pop list.pop(0)\n",
    "* To get the top most item in the queue, get the last index of the list using: list[-1]\n",
    "\n",
    "\n",
    "[How to implement a queue in python](https://www.educative.io/edpresso/how-to-implement-a-queue-in-python)\n",
    "\n",
    "[Different implementations of queues in python](https://dbader.org/blog/queues-in-python)\n"
   ]
  },
  {
   "cell_type": "code",
   "execution_count": 4,
   "metadata": {},
   "outputs": [
    {
     "name": "stdout",
     "output_type": "stream",
     "text": [
      "dequeue: [2, 3]\n",
      "peek: 3\n"
     ]
    }
   ],
   "source": [
    "\"\"\"Example using list data structure (Is not recommended)\"\"\"\n",
    "\n",
    "# 1 - 2 - 3\n",
    "# el uno es la parte trasera y el 3 es la parte frontal\n",
    "queue = []\n",
    "queue.append(1) # primero en entrar\n",
    "queue.append(2) # segundo en entrar\n",
    "queue.append(3) # tercero en entrar\n",
    "\n",
    "queue.pop(0) # Sale el que va en la parte trasera\n",
    "print(\"dequeue:\", queue)\n",
    "# 2 - 3\n",
    "\n",
    "print(\"peek:\", queue[-1]) # Obtiene el elemento frontal"
   ]
  },
  {
   "cell_type": "code",
   "execution_count": 20,
   "metadata": {},
   "outputs": [
    {
     "name": "stdout",
     "output_type": "stream",
     "text": [
      "deque([1, 2, 3])\n",
      "dequeue: deque([2, 3])\n",
      "peek: 3\n"
     ]
    }
   ],
   "source": [
    "\"\"\"Example using collections module\"\"\"\n",
    "\n",
    "from collections import deque\n",
    "\n",
    "q = deque()\n",
    "\n",
    "q.append(1) # --- ESTE ES EL PUSH\n",
    "q.append(2)\n",
    "q.append(3)\n",
    "print(q) # 1 - 2 - 3\n",
    "\n",
    "q.popleft() # Sale el que va en la parte trasera -- osea el que entro de primero en la fila -- ESTE ES EL POP\n",
    "print(\"dequeue:\", q)\n",
    "\n",
    "print(\"peek:\", q[-1]) # Obtiene el elemento frontal\n",
    "\n",
    "\n"
   ]
  }
 ],
 "metadata": {
  "kernelspec": {
   "display_name": "Python 3",
   "language": "python",
   "name": "python3"
  },
  "language_info": {
   "codemirror_mode": {
    "name": "ipython",
    "version": 3
   },
   "file_extension": ".py",
   "mimetype": "text/x-python",
   "name": "python",
   "nbconvert_exporter": "python",
   "pygments_lexer": "ipython3",
   "version": "3.8.4rc1"
  }
 },
 "nbformat": 4,
 "nbformat_minor": 4
}
