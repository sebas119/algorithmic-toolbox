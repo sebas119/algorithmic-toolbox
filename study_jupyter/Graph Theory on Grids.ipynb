{
 "cells": [
  {
   "cell_type": "markdown",
   "metadata": {},
   "source": [
    "## A common approach to solving graph theory problems on grids is to first convert the grid to a familiar format such as an adjacency list/matrix.\n",
    "\n",
    "> First label the cells in the grid with numbers [0, n) where n = #rows x #columns\n",
    "\n",
    "|   |   |\n",
    "|---|---|\n",
    "| 0 | 1 |\n",
    "| 2 | 3 |\n",
    "| 4 | 5 |\n"
   ]
  },
  {
   "cell_type": "code",
   "execution_count": 6,
   "metadata": {},
   "outputs": [
    {
     "name": "stdout",
     "output_type": "stream",
     "text": [
      "[[1, 2, 3, 4], [0, 0, 0, 5], [6, 7, 8, 9]]\n"
     ]
    }
   ],
   "source": [
    "\"\"\"Grid of paths\"\"\"\n",
    "grid = [[1, 1, 1, 1],\n",
    "        [0, 0, 0, 1],\n",
    "        [1, 1, 1, 1]]\n",
    "\n",
    "row = len(grid)\n",
    "col = len(grid[0])\n",
    "\n",
    "n = 1\n",
    "for i in range(row):\n",
    "    for j in range(col):\n",
    "        if grid[i][j] == 1:\n",
    "            grid[i][j] = n\n",
    "            n += 1\n",
    "\n",
    "\"\"\"Label of the connected cells\"\"\"\n",
    "print(grid)"
   ]
  },
  {
   "cell_type": "code",
   "execution_count": 19,
   "metadata": {},
   "outputs": [
    {
     "name": "stdout",
     "output_type": "stream",
     "text": [
      "{1: [2], 2: [3, 1], 3: [4, 2], 4: [5, 3], 5: [9, 4], 6: [7], 7: [8, 6], 8: [9, 7], 9: [5, 8]}\n"
     ]
    }
   ],
   "source": [
    "label_grid = [[1, 2, 3, 4],\n",
    "              [0, 0, 0, 5],\n",
    "              [6, 7, 8, 9]]\n",
    "\n",
    "def createAdjList(label_grid):\n",
    "    adj_list = {}\n",
    "    rows = len(label_grid)\n",
    "    cols = len(label_grid[0])\n",
    "    for i in range(rows):\n",
    "        for j in range(cols):\n",
    "            curr = label_grid[i][j]\n",
    "            if curr != 0:\n",
    "                adj = checkAdjacents(label_grid, i, j, rows, cols)\n",
    "                if curr not in adj_list.keys():\n",
    "                    adj_list[curr] = adj\n",
    "                else:\n",
    "                    for e in adj:                        \n",
    "                        adj_list[curr].append(e)\n",
    "    return adj_list\n",
    "                \n",
    "def checkAdjacents(label_grid, i, j, rows, cols):\n",
    "    adj = []\n",
    "    \n",
    "    if (i+1 < rows and label_grid[i + 1][j] != 0):\n",
    "        adj.append(label_grid[i+1][j]) # down\n",
    "    if (i-1 >= 0 and label_grid[i - 1][j] != 0):\n",
    "        adj.append(label_grid[i-1][j]) # up\n",
    "    if (j+1 < cols and label_grid[i][j+1]):\n",
    "        adj.append(label_grid[i][j+1]) # left\n",
    "    if (j-1 >= 0 and label_grid[i][j-1]):\n",
    "        adj.append(label_grid[i][j-1]) # right\n",
    "    return adj\n",
    "\n",
    "\n",
    "adj = createAdjList(label_grid)\n",
    "\n",
    "print(adj)"
   ]
  },
  {
   "cell_type": "code",
   "execution_count": 18,
   "metadata": {},
   "outputs": [
    {
     "name": "stdout",
     "output_type": "stream",
     "text": [
      "Neighbours of the coordinates (0, 0)\n",
      "Adjacents (1, 0)\n",
      "Adjacents (0, 1)\n",
      "Neighbours of the coordinates (0, 1)\n",
      "Adjacents (1, 1)\n",
      "Adjacents (0, 2)\n",
      "Adjacents (0, 0)\n",
      "Neighbours of the coordinates (0, 2)\n",
      "Adjacents (1, 2)\n",
      "Adjacents (0, 3)\n",
      "Adjacents (0, 1)\n",
      "Neighbours of the coordinates (0, 3)\n",
      "Adjacents (1, 3)\n",
      "Adjacents (0, 2)\n",
      "Neighbours of the coordinates (1, 0)\n",
      "Adjacents (0, 0)\n",
      "Adjacents (2, 0)\n",
      "Adjacents (1, 1)\n",
      "Neighbours of the coordinates (1, 1)\n",
      "Adjacents (0, 1)\n",
      "Adjacents (2, 1)\n",
      "Adjacents (1, 2)\n",
      "Adjacents (1, 0)\n",
      "Neighbours of the coordinates (1, 2)\n",
      "Adjacents (0, 2)\n",
      "Adjacents (2, 2)\n",
      "Adjacents (1, 3)\n",
      "Adjacents (1, 1)\n",
      "Neighbours of the coordinates (1, 3)\n",
      "Adjacents (0, 3)\n",
      "Adjacents (2, 3)\n",
      "Adjacents (1, 2)\n",
      "Neighbours of the coordinates (2, 0)\n",
      "Adjacents (1, 0)\n",
      "Adjacents (2, 1)\n",
      "Neighbours of the coordinates (2, 1)\n",
      "Adjacents (1, 1)\n",
      "Adjacents (2, 2)\n",
      "Adjacents (2, 0)\n",
      "Neighbours of the coordinates (2, 2)\n",
      "Adjacents (1, 2)\n",
      "Adjacents (2, 3)\n",
      "Adjacents (2, 1)\n",
      "Neighbours of the coordinates (2, 3)\n",
      "Adjacents (1, 3)\n",
      "Adjacents (2, 2)\n"
     ]
    }
   ],
   "source": [
    "\"\"\"Direction Vectors\n",
    "This makes it very easy to access neighbouring cells from the current row-column position:\n",
    "\"\"\"\n",
    "\n",
    "\n",
    "grid = [[1, 1, 1, 1],\n",
    "        [0, 0, 0, 1],\n",
    "        [1, 1, 1, 1]]\n",
    "\n",
    "\n",
    "\n",
    "\n",
    "def grid_directions(grid):\n",
    "    rows = len(grid)\n",
    "    cols = len(grid[0])\n",
    "    \n",
    "    for i in range(rows):\n",
    "        for j in range(cols):\n",
    "            print('Neighbours of the coordinates {}'.format((i,j)))\n",
    "            directions_vector(i, j, rows, cols)\n",
    "\n",
    "def directions_vector(i, j, R, C):\n",
    "    \n",
    "    # Define the directions vectors for\n",
    "    # north, south, east, west\n",
    "    dr = [-1, 1, 0, 0]\n",
    "    dc = [0, 0, 1, -1]\n",
    "\n",
    "    for x in range(0, 4):\n",
    "        rr = i + dr[x] # new i to check\n",
    "        cc = j + dc[x] # new j to check\n",
    "        \n",
    "        # Check boundary cases\n",
    "        if rr < 0 or cc < 0 or rr >= R or cc >= C: continue\n",
    "            \n",
    "        print(\"Adjacents {}\".format((rr,cc)))\n",
    "        \n",
    "grid_directions(grid)"
   ]
  }
 ],
 "metadata": {
  "kernelspec": {
   "display_name": "Python 3",
   "language": "python",
   "name": "python3"
  },
  "language_info": {
   "codemirror_mode": {
    "name": "ipython",
    "version": 3
   },
   "file_extension": ".py",
   "mimetype": "text/x-python",
   "name": "python",
   "nbconvert_exporter": "python",
   "pygments_lexer": "ipython3",
   "version": "3.8.4rc1"
  }
 },
 "nbformat": 4,
 "nbformat_minor": 4
}
