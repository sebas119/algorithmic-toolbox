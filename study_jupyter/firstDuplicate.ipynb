{
 "cells": [
  {
   "cell_type": "code",
   "execution_count": 8,
   "metadata": {},
   "outputs": [
    {
     "name": "stdout",
     "output_type": "stream",
     "text": [
      "2 2\n",
      "3 3\n",
      "4\n"
     ]
    }
   ],
   "source": [
    "def firstDuplicate(a):\n",
    "    \n",
    "    dup_index = float('inf')\n",
    "    \n",
    "    for i in range(0, len(a)):\n",
    "        for j in range(i + 1, len(a)):\n",
    "            if a[i] == a[j]:\n",
    "                print('{} {}'.format(a[i], a[j]))\n",
    "                if dup_index > j:\n",
    "                    dup_index = j\n",
    "                \n",
    "               \n",
    "    print(dup_index)\n",
    "    \n",
    "    \n",
    "a = [2, 1, 3, 5, 3, 2]\n",
    "firstDuplicate(a)"
   ]
  },
  {
   "cell_type": "code",
   "execution_count": null,
   "metadata": {},
   "outputs": [],
   "source": [
    "def firstDuplicate(a):\n",
    "    \n",
    "    \n",
    "    hashSet = set()\n",
    "    \n",
    "    for i in range(0, len(a)):\n",
    "        if a[i] not in hashSet:\n",
    "            hashSet.add(a[i])\n",
    "        else:\n",
    "            return a[i]\n",
    "            \n",
    "    return -1\n",
    "        \n",
    "    \n"
   ]
  }
 ],
 "metadata": {
  "kernelspec": {
   "display_name": "Python 3",
   "language": "python",
   "name": "python3"
  },
  "language_info": {
   "codemirror_mode": {
    "name": "ipython",
    "version": 3
   },
   "file_extension": ".py",
   "mimetype": "text/x-python",
   "name": "python",
   "nbconvert_exporter": "python",
   "pygments_lexer": "ipython3",
   "version": "3.8.2"
  }
 },
 "nbformat": 4,
 "nbformat_minor": 4
}
