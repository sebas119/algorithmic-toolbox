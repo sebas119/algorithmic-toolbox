{
 "cells": [
  {
   "cell_type": "markdown",
   "metadata": {},
   "source": [
    "#### Note: Try to solve this task in O(n) time using O(1) additional space, where n is the number of elements in l, since this is what you'll be asked to do during an interview.\n",
    "\n",
    "Given a singly linked list of integers, determine whether or not it's a palindrome.\n",
    "\n",
    "Note: in examples below and tests preview linked lists are presented as arrays just for simplicity of visualization: in real data you will be given a head node l of the linked list"
   ]
  },
  {
   "cell_type": "code",
   "execution_count": 14,
   "metadata": {},
   "outputs": [
    {
     "name": "stdout",
     "output_type": "stream",
     "text": [
      "6\n",
      "8\n",
      "6\n"
     ]
    },
    {
     "data": {
      "text/plain": [
       "True"
      ]
     },
     "execution_count": 14,
     "metadata": {},
     "output_type": "execute_result"
    }
   ],
   "source": [
    "# Singly-linked lists are already defined with this interface:\n",
    "class Node(object):\n",
    "    def __init__(self, x):\n",
    "        self.value = x\n",
    "        self.next = None\n",
    "        \n",
    "def push(head, value):\n",
    "    node = Node(0)\n",
    "    node.value = value\n",
    "    node.next = head\n",
    "    head = node\n",
    "    return head\n",
    "    \n",
    "head = None\n",
    "head = push(head, 6)\n",
    "head = push(head, 8)\n",
    "head = push(head, 6)\n",
    "\n",
    "def printList(head):\n",
    "    while head:\n",
    "        print(head.value)\n",
    "        head = head.next\n",
    "        \n",
    "printList(head)\n",
    "\n",
    "#\n",
    "# Find Middle Element\n",
    "# Reverse the second half of list\n",
    "# Check first and second halves are same\n",
    "# Reverse the second half again to get back the original list\n",
    "def isListPalindrome(head):\n",
    "    node = head\n",
    "    fast = head\n",
    "    prev = None\n",
    "    \n",
    "    while fast and fast.next:\n",
    "        fast = fast.next.next\n",
    "        temp = node.next\n",
    "        node.next = prev\n",
    "        prev = node\n",
    "        node = temp\n",
    "    \n",
    "    if fast:\n",
    "        tail = node.next\n",
    "    else:\n",
    "        tail = node\n",
    "        \n",
    "    while prev:\n",
    "        if prev.value == tail.value:\n",
    "            tail = tail.next\n",
    "            prev = prev.next\n",
    "        else:\n",
    "            return False\n",
    "    return True\n",
    "    \n",
    "    \n",
    "isListPalindrome(head)"
   ]
  }
 ],
 "metadata": {
  "kernelspec": {
   "display_name": "Python 3",
   "language": "python",
   "name": "python3"
  },
  "language_info": {
   "codemirror_mode": {
    "name": "ipython",
    "version": 3
   },
   "file_extension": ".py",
   "mimetype": "text/x-python",
   "name": "python",
   "nbconvert_exporter": "python",
   "pygments_lexer": "ipython3",
   "version": "3.8.2"
  }
 },
 "nbformat": 4,
 "nbformat_minor": 4
}
