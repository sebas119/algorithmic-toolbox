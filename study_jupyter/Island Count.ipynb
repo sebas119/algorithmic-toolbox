{
 "cells": [
  {
   "attachments": {},
   "cell_type": "markdown",
   "metadata": {},
   "source": [
    "# Island Count\n",
    "\n",
    "Given a 2D array binaryMatrix of 0s and 1s, implement a function getNumberOfIslands that returns the number of islands of 1s in binaryMatrix.\n",
    "\n",
    "An island is defined as a group of adjacent values that are all 1s. A cell in binaryMatrix is considered adjacent to another cell if they are next to each either on the same row or column. Note that two values of 1 are not part of the same island if they’re sharing only a mutual “corner” (i.e. they are diagonally neighbors).\n",
    "\n",
    "Explain and code the most efficient solution possible and analyze its time and space complexities.\n",
    "\n",
    "Example:\n",
    "\n",
    "input:  `binaryMatrix = [ [0,    1,    0,    1,    0],\n",
    "                         [0,    0,    1,    1,    1],\n",
    "                         [1,    0,    0,    1,    0],\n",
    "                         [0,    1,    1,    0,    0],\n",
    "                         [1,    0,    1,    0,    1] ]`\n",
    "\n",
    "output: 6 # since this is the number of islands in binaryMatrix.\n",
    "\n",
    "\n",
    "### Constraints:\n",
    "\n",
    "* [time limit] 5000ms\n",
    "\n",
    "* [input] array.array.int binaryMatrix\n",
    "\n",
    "    - 1 ≤ binaryMatrix.length ≤ 100\n",
    "    - 1 ≤ binaryMatrix[i].length ≤ 100\n",
    "* [output] integer\n"
   ]
  },
  {
   "cell_type": "code",
   "execution_count": 6,
   "metadata": {},
   "outputs": [],
   "source": [
    "\"\"\"Implementation using recursive calls\"\"\"\n",
    "\n",
    "def markTheIsland(binaryMatrix, x, y, rows, cols):\n",
    "  \n",
    "  if (x < 0 or x >= rows or y < 0 or y >= cols or binaryMatrix[x][y] != 1): #Boundary case for matrix\n",
    "    return\n",
    "  # Mark the cell\n",
    "  binaryMatrix[x][y] = 2\n",
    "  \n",
    "  markTheIsland(binaryMatrix, x + 1, y, rows, cols) # top  \n",
    "  markTheIsland(binaryMatrix, x - 1, y, rows, cols) # down  \n",
    "  markTheIsland(binaryMatrix, x, y + 1, rows, cols) # right  \n",
    "  markTheIsland(binaryMatrix, x, y - 1, rows, cols) # left\n",
    "    \n",
    "\n",
    "def get_number_of_islands(binaryMatrix):\n",
    "  \n",
    "  totalIsland = 0  \n",
    "  rows = len(binaryMatrix)\n",
    "\n",
    "  if rows == 0:\n",
    "    return 0 # Empty grid -- boundary case\n",
    "  cols = len(binaryMatrix[0])\n",
    "  \n",
    "  # Iterate for all cells of the matrix\n",
    "  for i in range(0, rows):\n",
    "    for j in range(0, cols):\n",
    "      if binaryMatrix[i][j] == 1:\n",
    "        markTheIsland(binaryMatrix, i, j, rows, cols)\n",
    "        totalIsland += 1\n",
    "  \n",
    "  return totalIsland"
   ]
  },
  {
   "cell_type": "code",
   "execution_count": 3,
   "metadata": {},
   "outputs": [
    {
     "name": "stdout",
     "output_type": "stream",
     "text": [
      "1\n"
     ]
    }
   ],
   "source": [
    "\"\"\"Testing examples\"\"\"\n",
    "answer = get_number_of_islands([[0, 1 , 1]])\n",
    "print(answer)"
   ]
  },
  {
   "cell_type": "code",
   "execution_count": 31,
   "metadata": {},
   "outputs": [],
   "source": [
    "\"\"\"Iterative implementation using queue\"\"\"\n",
    "\n",
    "from collections import deque\n",
    "\n",
    "def get_number_of_islands(binaryMatrix):\n",
    "  \n",
    "    totalIsland = 0  \n",
    "    rows = len(binaryMatrix)\n",
    "\n",
    "    if rows == 0:\n",
    "        return 0 # Empty grid -- boundary case\n",
    "    cols = len(binaryMatrix[0])\n",
    "  \n",
    "  # Iterate for all cells of the matrix\n",
    "    for i in range(0, rows):\n",
    "        for j in range(0, cols):\n",
    "            if binaryMatrix[i][j] == 1:\n",
    "                markTheIsland(binaryMatrix, i, j, rows, cols)\n",
    "                totalIsland += 1\n",
    "  \n",
    "    return totalIsland\n",
    "\n",
    "\n",
    "def markTheIsland(binaryMatrix, i, j, rows, cols):\n",
    "    q = deque() # Create of a queue data structure\n",
    "    q.append([i, j]) # add coordinates\n",
    "    print('valor del queue {}'.format(q))\n",
    "    while (q):\n",
    "        print('valor del q: {}'.format(q))\n",
    "        item = q.popleft()\n",
    "        print('se removio la parte trasera {}'.format(item))\n",
    "        x = item[0]\n",
    "        y = item[1]\n",
    "        if (binaryMatrix[x][y] == 1):\n",
    "            print('entro aqui con x:{} y:{}'.format(x, y))\n",
    "            binaryMatrix[x][y] = -1\n",
    "            pushIfValid(q, x + 1, y, rows, cols) # top  \n",
    "            pushIfValid(q, x - 1, y, rows, cols) # down  \n",
    "            pushIfValid(q, x, y + 1, rows, cols) # right  \n",
    "            pushIfValid(q, x, y - 1, rows, cols) # left\n",
    "            \n",
    "def pushIfValid(q, x, y, rows, cols):\n",
    "    if (x >= 0 and x < rows and y >= 0 and y < cols):\n",
    "        print('append del x: {} y: {}'.format(x, y))\n",
    "        q.append([x,y])\n",
    "\n",
    " "
   ]
  },
  {
   "cell_type": "code",
   "execution_count": 30,
   "metadata": {},
   "outputs": [
    {
     "name": "stdout",
     "output_type": "stream",
     "text": [
      "valor del queue deque([[0, 1]])\n",
      "valor del q: deque([[0, 1]])\n",
      "se removio la parte trasera [0, 1]\n",
      "entro aqui con x:0 y:1\n",
      "append del x: 0 y: 2\n",
      "append del x: 0 y: 0\n",
      "valor del q: deque([[0, 2], [0, 0]])\n",
      "se removio la parte trasera [0, 2]\n",
      "entro aqui con x:0 y:2\n",
      "append del x: 0 y: 1\n",
      "valor del q: deque([[0, 0], [0, 1]])\n",
      "se removio la parte trasera [0, 0]\n",
      "valor del q: deque([[0, 1]])\n",
      "se removio la parte trasera [0, 1]\n",
      "1\n"
     ]
    }
   ],
   "source": [
    "\"\"\"Testing examples\"\"\"\n",
    "answer = get_number_of_islands([[0, 1 , 1]])\n",
    "print(answer)"
   ]
  }
 ],
 "metadata": {
  "kernelspec": {
   "display_name": "Python 3",
   "language": "python",
   "name": "python3"
  },
  "language_info": {
   "codemirror_mode": {
    "name": "ipython",
    "version": 3
   },
   "file_extension": ".py",
   "mimetype": "text/x-python",
   "name": "python",
   "nbconvert_exporter": "python",
   "pygments_lexer": "ipython3",
   "version": "3.8.4rc1"
  }
 },
 "nbformat": 4,
 "nbformat_minor": 4
}
