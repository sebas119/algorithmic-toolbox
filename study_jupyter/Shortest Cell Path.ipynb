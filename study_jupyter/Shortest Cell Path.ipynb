{
 "cells": [
  {
   "cell_type": "markdown",
   "metadata": {},
   "source": [
    "**In a given grid of 0s and 1s, we have some starting row and column sr, sc and a target row and column tr, tc. Return the length of the shortest path from sr, sc to tr, tc that walks along 1 values only.**\n",
    "\n",
    "Each location in the path, including the start and the end, must be a 1. Each subsequent location in the path must be 4-directionally adjacent to the previous location.\n",
    "\n",
    "It is guaranteed that grid[sr][sc] = grid[tr][tc] = 1, and the starting and target positions are different.\n",
    "\n",
    "If the task is impossible, return -1.\n",
    "\n",
    "Examples:\n",
    "\n",
    "`input:\n",
    "grid = [[1, 1, 1, 1],\n",
    "        [0, 0, 0, 1],\n",
    "        [1, 1, 1, 1]]\n",
    "sr = 0, sc = 0, tr = 2, tc = 0\n",
    "`\n",
    "`output: 8\n",
    "(The lines below represent this grid:)\n",
    "1111\n",
    "0001\n",
    "1111`\n",
    "\n",
    "`grid = [[1, 1, 1, 1],\n",
    "         [0, 0, 0, 1],\n",
    "         [1, 0, 1, 1]]\n",
    "sr = 0, sc = 0, tr = 2, tc = 0`\n",
    "`output: -1\n",
    "(The lines below represent this grid:)\n",
    "1111\n",
    "0001\n",
    "1011`"
   ]
  },
  {
   "cell_type": "markdown",
   "metadata": {},
   "source": [
    "### Analisis\n",
    "\n",
    "- sr = starting row\n",
    "- sc = starting column\n",
    "\n",
    "\n",
    "- tr = targeting row\n",
    "- tc = targeting column\n",
    "\n",
    "They are coordinates and we must return the length of the shortest path from *sr, sc to tr, tc* that walks along **1** values only\n",
    "\n",
    "If the task is impossible, return -1."
   ]
  },
  {
   "cell_type": "code",
   "execution_count": null,
   "metadata": {},
   "outputs": [],
   "source": []
  }
 ],
 "metadata": {
  "kernelspec": {
   "display_name": "Python 3",
   "language": "python",
   "name": "python3"
  },
  "language_info": {
   "codemirror_mode": {
    "name": "ipython",
    "version": 3
   },
   "file_extension": ".py",
   "mimetype": "text/x-python",
   "name": "python",
   "nbconvert_exporter": "python",
   "pygments_lexer": "ipython3",
   "version": "3.8.4rc1"
  }
 },
 "nbformat": 4,
 "nbformat_minor": 4
}
