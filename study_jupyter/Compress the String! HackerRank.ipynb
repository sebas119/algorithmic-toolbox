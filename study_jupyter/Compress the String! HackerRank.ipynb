{
 "cells": [
  {
   "cell_type": "code",
   "execution_count": 8,
   "metadata": {},
   "outputs": [
    {
     "name": "stdout",
     "output_type": "stream",
     "text": [
      "(1, 1) (3, 2) (1, 3) (2, 1) "
     ]
    }
   ],
   "source": [
    "# Using itertools library and method groupby --> https://docs.python.org/2/library/itertools.html#itertools.groupby\n",
    "\n",
    "import itertools as it\n",
    "\n",
    "s = '1222311'\n",
    "\n",
    "\n",
    "for key, grp in it.groupby(s):\n",
    "    print('({}, {})'.format(len(list(grp)), key), end=' ')"
   ]
  },
  {
   "cell_type": "markdown",
   "metadata": {},
   "source": [
    "## The object returned by groupby() is sort of like a dictionary in the sense that the iterators returned are associated with a key. However, unlike a dictionary, it won’t allow you to access its values by key name:\n"
   ]
  },
  {
   "cell_type": "code",
   "execution_count": 11,
   "metadata": {},
   "outputs": [
    {
     "name": "stdout",
     "output_type": "stream",
     "text": [
      "1: [1, 1]\n",
      "2: [2, 2, 2]\n",
      "3: [3]\n"
     ]
    }
   ],
   "source": [
    "import itertools as it\n",
    "\n",
    "for key, grp in it.groupby([1, 1, 2, 2, 2, 3]):\n",
    "    print('{}: {}'.format(key, list(grp)))"
   ]
  }
 ],
 "metadata": {
  "kernelspec": {
   "display_name": "Python 3",
   "language": "python",
   "name": "python3"
  },
  "language_info": {
   "codemirror_mode": {
    "name": "ipython",
    "version": 3
   },
   "file_extension": ".py",
   "mimetype": "text/x-python",
   "name": "python",
   "nbconvert_exporter": "python",
   "pygments_lexer": "ipython3",
   "version": "3.8.4rc1"
  }
 },
 "nbformat": 4,
 "nbformat_minor": 4
}
