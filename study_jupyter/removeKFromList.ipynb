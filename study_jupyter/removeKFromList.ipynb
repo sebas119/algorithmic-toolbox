{
 "cells": [
  {
   "cell_type": "code",
   "execution_count": 15,
   "metadata": {},
   "outputs": [
    {
     "name": "stdout",
     "output_type": "stream",
     "text": [
      "2\n",
      "2\n",
      "1\n",
      "8\n",
      "2\n",
      "3\n",
      "2\n",
      "7\n"
     ]
    }
   ],
   "source": [
    "# Singly-linked lists are already defined with this interface:\n",
    "class ListNode(object):\n",
    "    def __init__(self, x):\n",
    "        self.value = x\n",
    "        self.next = None\n",
    "        \n",
    "def push(head, data):\n",
    "    new_node = ListNode(0)\n",
    "    new_node.value = data\n",
    "    new_node.next = (head)\n",
    "    (head) = new_node\n",
    "    return (head)\n",
    "        \n",
    "\"\"\"head = None\n",
    "\n",
    "head = push(head, 7) \n",
    "head = push(head, 2) \n",
    "head = push(head, 3) \n",
    "head = push(head, 2) \n",
    "head = push(head, 8) \n",
    "head = push(head, 1) \n",
    "head = push(head, 2)\n",
    "head = push(head, 2)\"\"\"\n",
    "\n",
    "def printList(node):\n",
    "    while (node != None):\n",
    "        print(node.value)\n",
    "        node = node.next\n",
    "        \n"
   ]
  },
  {
   "cell_type": "code",
   "execution_count": 38,
   "metadata": {},
   "outputs": [],
   "source": [
    "l = [13, 2, 52, -9]\n",
    "\n",
    "head = None \n",
    "\n",
    "for e in l:\n",
    "    head = push(head, e)\n",
    "    \n",
    "# printList(head)"
   ]
  },
  {
   "cell_type": "code",
   "execution_count": 43,
   "metadata": {},
   "outputs": [
    {
     "name": "stdout",
     "output_type": "stream",
     "text": [
      "-9\n",
      "52\n",
      "2\n"
     ]
    }
   ],
   "source": [
    "def removeKFromList(l, k):\n",
    "    \n",
    "    temp = l\n",
    "    prev = None\n",
    "    \n",
    "    if l == None:\n",
    "        return l\n",
    "    \n",
    "    while (temp != None and temp.value == k):\n",
    "        print(\"entro al primer {}\".format(temp.value))\n",
    "        l = temp.next\n",
    "        temp = l\n",
    "    \n",
    "    while (temp != None):\n",
    "        \n",
    "        while (temp != None and temp.value != k):\n",
    "            prev = temp\n",
    "            print(temp.value)\n",
    "            temp = temp.next\n",
    "        \n",
    "        print(prev.next)\n",
    "            \n",
    "        if temp == None:\n",
    "            return l\n",
    "            \n",
    "        prev.next = temp.next\n",
    "        temp = prev.next\n",
    "        return l\n",
    "        \n",
    "#new = removeKFromList(head, 13)\n",
    "printList(new)"
   ]
  }
 ],
 "metadata": {
  "kernelspec": {
   "display_name": "Python 3",
   "language": "python",
   "name": "python3"
  },
  "language_info": {
   "codemirror_mode": {
    "name": "ipython",
    "version": 3
   },
   "file_extension": ".py",
   "mimetype": "text/x-python",
   "name": "python",
   "nbconvert_exporter": "python",
   "pygments_lexer": "ipython3",
   "version": "3.8.2"
  }
 },
 "nbformat": 4,
 "nbformat_minor": 4
}
