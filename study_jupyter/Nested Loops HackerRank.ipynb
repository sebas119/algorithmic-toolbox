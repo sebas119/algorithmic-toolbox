{
 "cells": [
  {
   "cell_type": "code",
   "execution_count": 16,
   "metadata": {},
   "outputs": [
    {
     "name": "stdout",
     "output_type": "stream",
     "text": [
      "First Lowest 37.2\n",
      "Second Lowest: 37.21\n",
      "[['Berry', 37.21], ['Harry', 37.21]]\n",
      "Berry\n",
      "Harry\n"
     ]
    }
   ],
   "source": [
    "records = [['Harry', 37.21], ['Berry', 37.21], ['Tina', 37.2], ['Akriti', 41], ['Harsh', 39]]\n",
    "\n",
    "def get_second_lowest(records):\n",
    "    firstLowest = secondLowest = float('inf')\n",
    "\n",
    "    for record in records:\n",
    "        name = record[0]\n",
    "        score = record[1]\n",
    "        \n",
    "        if firstLowest > score: # Found the Lowest number\n",
    "            secondLowest = firstLowest\n",
    "            firstLowest = score\n",
    "        elif secondLowest > score and score != firstLowest: # Found the secondLowest number different from the first\n",
    "            secondLowest = score\n",
    "    \n",
    "    ans = [record for record in records if secondLowest == record[1]]\n",
    "    \n",
    "        \n",
    "\n",
    "    \n",
    "    print(\"First Lowest {}\".format(firstLowest))\n",
    "    print(\"Second Lowest: {}\".format(secondLowest))\n",
    "    print(sorted(ans))\n",
    "    \n",
    "    # Print solution\n",
    "    for re in sorted(ans): print(re[0])\n",
    "    \n",
    "    \n",
    "get_second_lowest(records)"
   ]
  }
 ],
 "metadata": {
  "kernelspec": {
   "display_name": "Python 3",
   "language": "python",
   "name": "python3"
  },
  "language_info": {
   "codemirror_mode": {
    "name": "ipython",
    "version": 3
   },
   "file_extension": ".py",
   "mimetype": "text/x-python",
   "name": "python",
   "nbconvert_exporter": "python",
   "pygments_lexer": "ipython3",
   "version": "3.8.4rc1"
  }
 },
 "nbformat": 4,
 "nbformat_minor": 4
}
