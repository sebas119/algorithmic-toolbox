{
 "cells": [
  {
   "cell_type": "code",
   "execution_count": 6,
   "metadata": {},
   "outputs": [
    {
     "name": "stdout",
     "output_type": "stream",
     "text": [
      "[['Cheese', 'Quesadilla', 'Sandwich'],\n",
      " ['Salad', 'Salad', 'Sandwich'],\n",
      " ['Sauce', 'Pizza', 'Quesadilla', 'Salad'],\n",
      " ['Tomato', 'Pizza', 'Salad', 'Sandwich']]\n"
     ]
    }
   ],
   "source": [
    "from pprint import pprint\n",
    "\n",
    "dishes = [[\"Salad\", \"Tomato\", \"Cucumber\", \"Salad\", \"Sauce\"],\n",
    "            [\"Pizza\", \"Tomato\", \"Sausage\", \"Sauce\", \"Dough\"],\n",
    "            [\"Quesadilla\", \"Chicken\", \"Cheese\", \"Sauce\"],\n",
    "            [\"Sandwich\", \"Salad\", \"Bread\", \"Tomato\", \"Cheese\"]]\n",
    "def groupingDishes(dishes):\n",
    "    hashTable = {}\n",
    "    \n",
    "    for i in range(0, len(dishes)):\n",
    "        for j in range(1, len(dishes[i])):\n",
    "            if dishes[i][j] not in hashTable.keys():\n",
    "                hashTable[dishes[i][j]] = [dishes[i][0]]\n",
    "            else:\n",
    "                hashTable[dishes[i][j]].append(dishes[i][0])\n",
    "                \n",
    "    ans = []\n",
    "    for ing in sorted(hashTable.keys()):\n",
    "        temp = [ing]\n",
    "        for dish in sorted(hashTable[ing]):\n",
    "            temp.append(dish)\n",
    "        if len(temp) > 2:\n",
    "            ans.append(temp)\n",
    "    return ans\n",
    "    \n",
    "groupingDishes(dishes)"
   ]
  }
 ],
 "metadata": {
  "kernelspec": {
   "display_name": "Python 3",
   "language": "python",
   "name": "python3"
  },
  "language_info": {
   "codemirror_mode": {
    "name": "ipython",
    "version": 3
   },
   "file_extension": ".py",
   "mimetype": "text/x-python",
   "name": "python",
   "nbconvert_exporter": "python",
   "pygments_lexer": "ipython3",
   "version": "3.8.2"
  }
 },
 "nbformat": 4,
 "nbformat_minor": 4
}
